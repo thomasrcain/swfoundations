{
  "nbformat": 4,
  "nbformat_minor": 0,
  "metadata": {
    "colab": {
      "name": "2021 SOLUTION - Dictionary Workshop.ipynb",
      "provenance": [],
      "collapsed_sections": [],
      "toc_visible": true,
      "include_colab_link": true
    },
    "kernelspec": {
      "name": "python3",
      "display_name": "Python 3"
    }
  },
  "cells": [
    {
      "cell_type": "markdown",
      "metadata": {
        "id": "view-in-github",
        "colab_type": "text"
      },
      "source": [
        "<a href=\"https://colab.research.google.com/github/thomasrcain/swfoundations/blob/master/Solutions/2021_SOLUTION_Dictionary_Workshop.ipynb\" target=\"_parent\"><img src=\"https://colab.research.google.com/assets/colab-badge.svg\" alt=\"Open In Colab\"/></a>"
      ]
    },
    {
      "cell_type": "markdown",
      "metadata": {
        "id": "RtnYmCIEsXyI"
      },
      "source": [
        "# Warm-Ups"
      ]
    },
    {
      "cell_type": "markdown",
      "metadata": {
        "id": "lpHD_XsAs1ym"
      },
      "source": [
        "## Warm-Up\n",
        "\n",
        "In the code cell below, we have a dictionary that holds a few different states and their respective capitals.\n",
        "\n",
        "Let's start off by learning how to access elements in a dictionary.\n",
        "\n",
        "1. Add the following line of code below the creation of `capitals`: `print(capitals[\"California\"])`\n",
        "2. Run the code cell. Does it print what you expected?\n",
        "3. Add the following line of code to the bottom of your code cell: `print(capitals[0])`\n",
        "4. Run the code cell. Does it do what you expected it to?\n",
        " * It crashes because you cannot access dictionary elements by their index. Instead of them being \"ordered\", they're mapped to a key.\n",
        "5. Remove *all* lines of code that print out a value.\n",
        "6. Now add the following line of code: `capitals[\"Maryland\"] = \"UMBC\"`\n",
        "7. At the bottom of your code cell, print out the capital of Maryland from `capitals`.\n",
        "8. Run the code cell. Notice that Maryland's capital has been updated.\n",
        "9. At the bottom of your code cell, add the following line of code: `capitals[\"Arizona\"] = \"Phoenix\"`\n",
        "10. Finally, at the bottom of your code cell, print out the capital of Arizona from `capitals`."
      ]
    },
    {
      "cell_type": "code",
      "metadata": {
        "id": "as8TNB-4sQh5"
      },
      "source": [
        "capitals = { \"California\":\"Sacramento\", \"Maryland\":\"Annapolis\", \"Texas\":\"Austin\" }"
      ],
      "execution_count": null,
      "outputs": []
    },
    {
      "cell_type": "markdown",
      "metadata": {
        "id": "u6OnlokqsUJ2"
      },
      "source": [
        "# Exercises"
      ]
    },
    {
      "cell_type": "markdown",
      "metadata": {
        "id": "0Q1LwOyaFFXt"
      },
      "source": [
        "## 1. Printing the Pairs\n",
        "\n",
        "Let's start off with a simple exercise to print out the elements in a dictionary.\n",
        "\n",
        "The dictionary will be provided, and your goal is to print the key and value for each pair on it's own line.\n",
        "\n",
        "The dictionary contains the names of pets and their ages.\n",
        "\n",
        "A successful solution should look like the following:\n",
        "```\n",
        "Sparky is 2\n",
        "Bowser is 3\n",
        "Mittens is 8\n",
        "Mr. Turtle is 4\n",
        "```"
      ]
    },
    {
      "cell_type": "code",
      "metadata": {
        "id": "wkSYPfoiFgMt"
      },
      "source": [
        "ages = {\n",
        "    \"Sparky\" : 2,\n",
        "    \"Bowser\" : 3,\n",
        "    \"Mittens\" : 8,\n",
        "    \"Mr. Turtle\" : 4\n",
        "}\n",
        "\n",
        "## Add your code below ##\n",
        "\n",
        "for pet, age in ages.items():\n",
        "  print(f\"{pet} is {age}\")\n"
      ],
      "execution_count": null,
      "outputs": []
    },
    {
      "cell_type": "markdown",
      "metadata": {
        "id": "TOxkqK_jBXzd"
      },
      "source": [
        "## 2. Mapping the Area\n",
        "\n",
        "For this exercise, let's try to add, remove, and change values in a dictionary.\n",
        "\n",
        "We're going to keep a dictionary of all the capitals in the nearby area. It will hold the capitals of Maryland, Virginia, Pennsylvania, Delaware, and West Virginia.\n",
        "\n",
        "To do this, you need to do the following:\n",
        "\n",
        "* Add Virginia and it's capital Richmond\n",
        "* Add Maryland and it's capital Annapolis\n",
        "* Remove California and it's capital Sacramento\n",
        "* Change Delaware's capital from Wilmington to Dover"
      ]
    },
    {
      "cell_type": "code",
      "metadata": {
        "colab": {
          "base_uri": "https://localhost:8080/"
        },
        "id": "XC_zmTYVCXfZ",
        "outputId": "b3238ef6-94b4-4753-9af5-c21e90124967"
      },
      "source": [
        "capitals = {\n",
        "    \"California\":\"Sacramento\", \n",
        "    \"Pennsylvania\":\"Harrisburg\",\n",
        "    \"Delaware\" : \"Wilmington\",\n",
        "    \"West Virginia\" : \"Charleston\"\n",
        "}\n",
        "\n",
        "### Add your code here: ###\n",
        "\n",
        "capitals[\"Virginia\"] = \"Richmond\"\n",
        "capitals[\"Maryland\"] = \"Annapolis\"\n",
        "\n",
        "capitals.pop(\"California\")\n",
        "\n",
        "capitals[\"Delaware\"] = \"Dover\"\n",
        "\n",
        "### Add your code above: ###\n",
        "\n",
        "for key, value in capitals.items():\n",
        "  print(f\"State: {key}, Capital: {value}\")"
      ],
      "execution_count": null,
      "outputs": [
        {
          "output_type": "stream",
          "text": [
            "State: Pennsylvania, Capital: Harrisburg\n",
            "State: Delaware, Capital: Dover\n",
            "State: West Virginia, Capital: Charleston\n",
            "State: Virginia, Capital: Richmond\n",
            "State: Maryland, Capital: Annapolis\n"
          ],
          "name": "stdout"
        }
      ]
    },
    {
      "cell_type": "markdown",
      "metadata": {
        "id": "pbKoso21HXY9"
      },
      "source": [
        "## 3. Keeping Score\n",
        "\n",
        "Now we're going to create an empty dictionary, and populate it with a list of students and their grades from a hypothetical test.\n",
        "\n",
        "The program should do the following:\n",
        "1. Create an empty dictionary named `grades`\n",
        "2. Use a `for` loop to ask the user for **three** students and their names and grades\n",
        "3. Store each name/grade pair in the dictionary\n",
        "\n",
        "The printing of the dictionary will be provided for you\n",
        "\n",
        "Here's what a successful solution should look like:\n",
        "```\n",
        "Enter a name: Betty\n",
        "Enter a grade: 92\n",
        "Enter a name: Veronica\n",
        "Enter a grade: 84\n",
        "Enter a name: Archie\n",
        "Enter a grade: 42\n",
        "Student: Betty, Grade: 92\n",
        "Student: Veronica, Grade: 84\n",
        "Student: Archie, Grade: 42\n",
        "```"
      ]
    },
    {
      "cell_type": "code",
      "metadata": {
        "id": "WhSgAOlfHXlx"
      },
      "source": [
        "grades = {}\n",
        "\n",
        "for i in range(0, 3):\n",
        "  name = input(\"Enter a name: \")\n",
        "  grade = input(\"Enter a grade: \")\n",
        "  \n",
        "  grades[name] = grade\n",
        "\n",
        "### Add your code above ###\n",
        "\n",
        "for key, value in grades.items():\n",
        "  print(f\"Student: {key}, Grade: {value}\")"
      ],
      "execution_count": null,
      "outputs": []
    },
    {
      "cell_type": "markdown",
      "metadata": {
        "id": "FLjezPObu20_"
      },
      "source": [
        "## 4. Speaking the Language\n",
        "\n",
        "When learning a new language, it's helpful to have a dictionary that you can use to lookup what a familiar word is in a new language.\n",
        "\n",
        "We're going to create a program that let's a user search a dictionary to get the French equivalent of an English word. The dictionary is provided in the code cell below.\n",
        "\n",
        "Here's what your program should do:\n",
        "\n",
        "* Prompt the user to enter a word in English\n",
        "* Check if `frenchDictionary` contains the word that the user entered, using `in`\n",
        "* If it does, display the value from `frenchDictionary` by passing in the user's search term as the key.\n",
        "\n",
        "Here is an example of what a successful solution looks like when you enter a word that *is* in the dictionary:\n",
        "```\n",
        "Enter a word in English: sunday\n",
        "dimanche\n",
        "```\n",
        "\n",
        "And here is an example of what a successful solution looks like when you enter a word that *is NOT* in the dictionary:\n",
        "```\n",
        "Enter a word in English: bagel\n",
        "bagel is not in the dictionary\n",
        "```"
      ]
    },
    {
      "cell_type": "code",
      "metadata": {
        "id": "QNwWAKQHvjvM"
      },
      "source": [
        "frenchDictionary = {\"apple\" : \"pomme\", \"banana\" : \"banane\", \"sunday\" : \"dimanche\", \"music\" : \"musique\"}\n",
        "\n",
        "word = input(\"Enter a word to convert: \")\n",
        "if(word in frenchDictionary):\n",
        "  print(frenchDictionary[word])\n",
        "else:\n",
        "  print(f\"{word} is not in the dictionary\")"
      ],
      "execution_count": null,
      "outputs": []
    },
    {
      "cell_type": "markdown",
      "metadata": {
        "id": "TxVp4LImGKQR"
      },
      "source": [
        "## 5. (Challenge) Currency Conversion\n",
        "\n",
        "Let's create a simple program that lets the user enter an amount in USD, and prints out that amount in three other currencies: Euros, Yen, and Bitcoin\n",
        "\n",
        "To do this, we need to do a couple different things:\n",
        "\n",
        "1. Create a dictionary that maps a type of currency to it's conversion rate to USD. We'll use the currency's code as a string for the key and the currency conversion amount as the value. Here is the currency conversion for these three currencies:\n",
        "\n",
        "* EUR = 1.21\n",
        "* YEN = 0.0096\n",
        "* XBT = 0.000022\n",
        "\n",
        "2. Take in a value from the user **as a float** that represents the amount of USD they'd like to convert\n",
        "\n",
        "3. Perform three conversions (you probably _don't_ want to use a loop for this), getting the entered value in euros, yen, and bitcoin\n",
        "\n",
        "4. Display the three conversions\n",
        "\n",
        "A successful solution looks like:\n",
        "```\n",
        "Enter an amount of USD: 9000.50\n",
        "As Euros: 10890.605\n",
        "As Yen: 86.4048\n",
        "As Bitcoin: 0.198011\n",
        "```\n",
        "\n",
        "_Note: You may have more or less decimal points than shown in the example, that is okay for now_"
      ]
    },
    {
      "cell_type": "code",
      "metadata": {
        "id": "dEL7538EI3T0"
      },
      "source": [
        "currencyConversion = {\n",
        "    \"EUR\" : 1.21,\n",
        "    \"YEN\" : 0.0096,\n",
        "    \"XBT\" : 0.000022,\n",
        "}\n",
        "\n",
        "usd = float(input(\"Enter an amount of USD: \"))\n",
        "\n",
        "for key, value in currencyConversion.items():\n",
        "  newMoney = usd * currencyConversion[key]\n",
        "  print(f\"As {key}: {newMoney}\")"
      ],
      "execution_count": null,
      "outputs": []
    }
  ]
}