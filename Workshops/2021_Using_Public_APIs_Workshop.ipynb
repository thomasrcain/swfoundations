{
  "nbformat": 4,
  "nbformat_minor": 0,
  "metadata": {
    "colab": {
      "name": "2021 - Using Public APIs Workshop.ipynb",
      "provenance": [],
      "collapsed_sections": [],
      "include_colab_link": true
    },
    "kernelspec": {
      "name": "python3",
      "display_name": "Python 3"
    }
  },
  "cells": [
    {
      "cell_type": "markdown",
      "metadata": {
        "id": "view-in-github",
        "colab_type": "text"
      },
      "source": [
        "<a href=\"https://colab.research.google.com/github/thomasrcain/swfoundations/blob/master/Workshops/2021_Using_Public_APIs_Workshop.ipynb\" target=\"_parent\"><img src=\"https://colab.research.google.com/assets/colab-badge.svg\" alt=\"Open In Colab\"/></a>"
      ]
    },
    {
      "cell_type": "markdown",
      "metadata": {
        "id": "E5WyeUlfl3D6"
      },
      "source": [
        "# <font color=\"red\"> Using Public APIs Workshop </font>\n",
        "\n",
        "There are a lot of practice problems in this Workshop.  The intent is to have exercises that you can do, say, over the weekend.\n",
        "\n",
        "Take them one at a time.\n",
        "\n",
        "You need to upload:\n",
        "- `academy_awards.csv`\n",
        "- `movie_list.txt`"
      ]
    },
    {
      "cell_type": "code",
      "metadata": {
        "id": "AxWDvKAdTZ5j"
      },
      "source": [
        "from google.colab import files\n",
        "uploaded = files.upload()"
      ],
      "execution_count": null,
      "outputs": []
    },
    {
      "cell_type": "markdown",
      "metadata": {
        "id": "tyKlsm1wwHHQ"
      },
      "source": [
        "# Warm Up - Practice Using an API\n",
        "\n",
        "**NOTE**.  You do not need an API Key for these exercises.\n",
        "\n",
        "Go to one of the following APIs.\n",
        "- `https://docs.thedogapi.com/`\n",
        "\n",
        "- `https://docs.thecatapi.com/`\n",
        "\n",
        "1. Decide which API you'd like to use.\n",
        "2. Go to this page to familiarize yourself with the API: https://docs.thedogapi.com/api-reference/breeds/breeds-list (or the associated _thecatapi_).\n",
        "3. Using this endpoint `https://api.thedogapi.com/v1/breeds` do the following\n",
        " - Put that URL into either your Firefox or Chrome browser (or other browser).\n",
        " - Use either `requests.get()` or `requests.request()` to\n",
        "    - Request the data from the URL\n",
        "    - Use `json()` to get the JSON data converted to Python.\n",
        "    - What is the type of the Python data that is in the response?\n",
        "    - Display a message like `The first dog in the list is: Somedog`\n",
        "    - Display all the JSON data in the first object.\n",
        "    - Count and display the number of breeds available.  Your output should look like:  `This has data for somenumber dogs.` \n",
        "3. Using this endpoint (`https://api.thedogapi.com/v1/breeds/search`) do the following: \n",
        " - Look at the data returned from this endpoint in a browser.  Refresh the URL a couple times to see that you get different data each time.\n",
        " - Now use the same endpoint to pass a query string to get information about your favorite breed.  Use `q=bernese` if you would like."
      ]
    },
    {
      "cell_type": "code",
      "metadata": {
        "id": "fCTz3X0ylOZl"
      },
      "source": [
        ""
      ],
      "execution_count": null,
      "outputs": []
    },
    {
      "cell_type": "markdown",
      "metadata": {
        "id": "zurwjeYYLt7Y"
      },
      "source": [
        "# Exercise 1. Invoke the QUOTE API Endpoint using Finnhub.io\n",
        "\n",
        "- Review this page: [Finnhub Quote API](https://finnhub.io/docs/api#quote)\n",
        "- Put this URL into your browser: `https://finnhub.io/api/v1/quote?symbol=AAPL&token=bsi9rj7rh5rd8hs19oag`\n",
        "- We will build the URL in stages:\n",
        " -  Because we're using the Finnhub QUOTE API endpoint, assign this _string_ to a variable named `stockQuoteUrl`: `https://finnhub.io/api/v1/quote`.\n",
        " - Let's build the `query string dictionary`, which is the remainder of the URL in the example above.\n",
        "   - We already have a string variable called `token`.  Look closely at the string value.\n",
        "   - Pick any ticker symbol of your choice (eg. AAPL, GOOG, MSFT, NFLX, AMZN, etc.).  Create a string variable called `tickerString` and assign a ticker symbol to that string variable.  \n",
        "   - Create a dictionary variable called `queryString` and add these two keys **and their associated values** to that dictionary:  `symbol` and `token`. Remind yourself of why you're doing this by looking at the full API endpoing request in the beginning of the exercise.\n",
        "- Use `requests.request(\"GET\", url, params)` to request the data from `stockQuoteUrl`.\n",
        "- Print the result of the HTTP response body by using `response.json()`\n",
        "- Run your code.  It should show the same thing that your browser showed in step #1. \n"
      ]
    },
    {
      "cell_type": "code",
      "metadata": {
        "id": "0AfLC5oTMqUo"
      },
      "source": [
        "import requests\n",
        "import json\n",
        "\n",
        "# Finnhub API key is called \"token\"\n",
        "# If you signed up at Finnhub, use your own token. Otherwise, use the one below.\n",
        "token=\"bsi9rj7rh5rd8hs19oag\"\n",
        "\n",
        "print(f'This is the URL that we are requesting data from:\\n {myURL}')\n",
        "print()\n"
      ],
      "execution_count": null,
      "outputs": []
    },
    {
      "cell_type": "markdown",
      "metadata": {
        "id": "uFZPApPYEsgX"
      },
      "source": [
        "# Exercise #2: Writing API Data to a CSV\n",
        "\n",
        "We'll use the Open Movie Database for this Exercise.\n",
        "\n",
        "This time we'll read movies from a **text file** (it is neither CSV nor JSON data).\n",
        "For each movie in the file, we'll make a call to OMDb. \n",
        "If the movie exists in the database, we'll write the returned data to a CSV file.\n",
        "- Upload `movie_list.txt`.  Feel free to edit this and add a few movies.\n",
        "- Use `open()` and `readlines()` to read the `movie_list.txt` data into a list.\n",
        "- Create an empty list called `filtered_movies_list` \n",
        "- Walk through the list of movie titles that you read in using `for`\n",
        " - Assemble the *query string* that you'll pass to `request`.\n",
        " - Use `requests.request()` to make your API call to OMDb\n",
        " - Use the earlier example for error-checking the response\n",
        "   - If the movie title was found, then add it to `filtered_movies_list`, otherwise tell the user that *No such movie was found*.\n",
        "- Save the `filtered_movies_list` to a CSV file.\n",
        " - HINT:  Use this for the fieldnames that you'll pass to `csv.DictWriter`\n",
        " \n",
        " `fieldnames = filtered_movies_list[0].keys()`"
      ]
    },
    {
      "cell_type": "code",
      "metadata": {
        "id": "mr7CgFsxEsgX"
      },
      "source": [
        "import requests\n",
        "import csv\n",
        "\n",
        "# Make multiple API calls and create a CSV file from the data that you used.\n",
        "\n",
        "url = \"http://www.omdbapi.com/\"\n",
        "\n",
        "# Use this key if you need one for the OMDb API\n",
        "myapikey = \"9b96d509\"\n",
        "querystring = {\"apikey\": myapikey}\n",
        "\n",
        "# Read the text file\n",
        "\n",
        "# Create a new list where you'll store the successful API calls\n",
        "\n",
        "# Traverse the list of movies that you read in \n",
        "# and make a call to the OMDb Movie API.\n",
        "\n",
        "# If it's a successful API call, add it to your new list\n",
        "\n",
        "# Write the new list to a CSV file"
      ],
      "execution_count": null,
      "outputs": []
    },
    {
      "cell_type": "markdown",
      "metadata": {
        "id": "qwDPu_NgEsgW"
      },
      "source": [
        "# Exercise #3: Code Modification\n",
        "\n",
        "The example that was presented in the lecture, combined use of the OMDb API and a CSV file to determine whether or not a movie won an Academy Award for BEST PICTURE. Modify that code to display the list of ALL Academy Awards won (not only Best Picture).\n",
        "\n",
        "- See the duplicated code from lecture in the cell below.\n",
        "- Questions to ask before you modify anything\n",
        " - At what point do I know, for sure, that the movie was NOMINATED for an Academy Award?\n",
        " - What value determines that the movie DID win SOME Academy Award?\n",
        " - What value determines the SPECIFIC Academy Award that was won?\n",
        " - What did we do when we found that the movie won BEST PICTURE?  What modifications do you need to make to the code to make sure we check for ALL awards won?\n"
      ]
    },
    {
      "cell_type": "code",
      "metadata": {
        "id": "rfUdHF2dQvrG"
      },
      "source": [
        "import requests\n",
        "import csv\n",
        "\n",
        "# Use a GET request to fetch API data and utilize a second data source to get additional information\n",
        "\n",
        "url = \"http://www.omdbapi.com/\"\n",
        "apikey = \"9b96d509\"\n",
        "\n",
        "# This is for program design and testing.\n",
        "# We 'hardcode' movies that we're sure won Best Picture and did NOT win Best Picture.\n",
        "# title = \"Gone with the Wind\"\n",
        "# title = \"Wizard of Oz\"\n",
        "\n",
        "academy_awards = []\n",
        "awards_file = 'academy_awards.csv'\n",
        "\n",
        "# Open the CSV with Best Picture information and read into Python dict\n",
        "with open(awards_file, encoding='utf-8', errors='ignore') as csv_file:\n",
        "    csv_reader = csv.DictReader(csv_file)\n",
        "    academy_awards.extend(csv_reader)\n",
        "\n",
        "title = input(\"Enter a movie title and we'll check if it won the Academy Award for Best Picture: \")\n",
        "\n",
        "# Populate the query string with your apikey and title\n",
        "querystring = {\"apikey\":apikey, \"t\":title}\n",
        "movie_requested = requests.request(\"GET\", url, params=querystring)\n",
        "\n",
        "# Use the json method in requests module to convert the json to a dict\n",
        "movie_requested_json = movie_requested.json()\n",
        "\n",
        "# Some error-checking.  See if we get response data.\n",
        "if (movie_requested_json['Response'] == \"False\"):\n",
        "    print(f\"Your requested movie {title} is not available in the OMDb Database.\")\n",
        "\n",
        "else:\n",
        "    movie_requested_title = movie_requested_json[\"Title\"]\n",
        "    movie_requested_awards = movie_requested_json[\"Awards\"]\n",
        "    movie_requested_year = movie_requested_json[\"Year\"]\n",
        "\n",
        "    # First check if the movie won ANY awards as per the API.\n",
        "    if movie_requested_awards == \"N/A\":\n",
        "            print(f\"{movie_requested_title} did not win any awards according to OMDb.\")\n",
        "            # exit()\n",
        "    else:  # Build a list of dictionaries that includes the award that this movie was nominated for\n",
        "        print(f\"\\nAccording to OMDb, {movie_requested_title} DID win some awards in {movie_requested_year}.\\n\")\n",
        "        print(\"So let's check if it won any ACADEMY AWARDS ...\\n\")\n",
        "        award_list = []\n",
        "        for m in academy_awards:\n",
        "            if (movie_requested_title.lower() == m[\"Nominee\"].lower()):\n",
        "                award_list.append(m)\n",
        "\n",
        "        if len(award_list) > 0:\n",
        "            print(f\"According to {awards_file}, this movie was nominated for {len(award_list)} ACADEMY AWARDS in {movie_requested_year}.\")\n",
        "            print(\" ... Now let's check if it won the Academy Award for Best Picture ... \\n\")\n",
        "\n",
        "            best_picture = False\n",
        "            for a in award_list:\n",
        "                if ((\"Best Picture\" in a[\"Category\"]) and (\"YES\" in a[\"Won?\"]) ):\n",
        "                    print(f\"And {a['Nominee']} DID win the Academy Award for Best Picture in {movie_requested_year}.\")\n",
        "                    best_picture = True\n",
        "                    break\n",
        "            if best_picture == False:\n",
        "                print(f\"No, {movie_requested_title} DID NOT win the Academy Award for Best Picture in {movie_requested_year}.\\n\")\n",
        "        else:\n",
        "            print(f\"According to {awards_file}, this movie did NOT WIN ANY ACADEMY AWARDS in {movie_requested_year}.\\n\")\n"
      ],
      "execution_count": null,
      "outputs": []
    },
    {
      "cell_type": "markdown",
      "metadata": {
        "id": "xR016swLEsgX"
      },
      "source": [
        "# Exercise #4:  Extend the above code to also create a JSON file with the following `keys`:\n",
        "- `\"movies\"`: which contains the list of movie titles.\n",
        "- `\"highest_metascore\"` : which contains the movie `Title` with the highest \"Metascore\"\n",
        "- `\"longest_duration\"` : which contains the movie `Title` with the longest runtime."
      ]
    },
    {
      "cell_type": "markdown",
      "metadata": {
        "id": "_Xqj1kabVutT"
      },
      "source": [
        "# Exercise #5. Build a Stock Portfolio CSV file using Finnhub.io\n",
        "### Make API calls for a list of Stock Ticker Symbols\n",
        "\n",
        "- Copy your code from above into the Code Cell below.\n",
        "- Choose some stock ticker symbols and create a list of strings called `portfolio`.  This list will be a list of ticker symbol strings.\n",
        "- Create a `for` loop that will walk through the `portfolio` list\n",
        " - **Be sure that all the code BELOW the `token` is in the scope of this `for` loop.**\n",
        " - Now you need to modify this line: `tickerString = \"AAPL\"` to use ALL the symbols in your list.  What should this line be now? \n",
        "- Run the resulting code. Do you get the JSON values of all ticker symbols?\n",
        "\n",
        "### Build the list of Stock Quotes\n",
        "- Before the `for` loop initialize a variable called `stockList = []`.\n",
        "- Modify the `for` loop\n",
        " - Comment out `print(response.json())`\n",
        " - Assign `response.json()` to a new variable called `stockQuote`.  What is the datatype of `stockQuote`?\n",
        " - Add a **key** called `ticker` to the `stockQuote` dictionary.  What value should you assign to this?\n",
        " - Now `append` the `stockQuote` dictionary to `stockList`.\n",
        " - Done the `for` loop.\n",
        "- Use a normal `for` loop to print out the `stockList`.  Does is look right?\n",
        "\n",
        "### Build the CSV\n",
        "- Include a `print` statement indicating that you are creating the stock portfolio CSV file.\n",
        "- Use `csv.DictWriter` to create your CSV file.  Use this code:\n",
        "```\n",
        "fields = [\"ticker\", \"c\", \"h\", \"l\", \"o\", \"pc\", \"t\"]\n",
        "with open('stock_portfolio.csv', mode='w') as csvfile:\n",
        "    csvwriter = csv.DictWriter(csvfile, fieldnames=fields)\n",
        "    csvwriter.writeheader()\n",
        "    for s in stockList:\n",
        "        csvwriter.writerow(s)\n",
        "```"
      ]
    },
    {
      "cell_type": "code",
      "metadata": {
        "id": "yFnmj6zTEsgX"
      },
      "source": [
        ""
      ],
      "execution_count": null,
      "outputs": []
    }
  ]
}