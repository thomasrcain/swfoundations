{
  "nbformat": 4,
  "nbformat_minor": 0,
  "metadata": {
    "colab": {
      "name": "NY Times Archive API - 2021 Final Hackathon.ipynb",
      "provenance": [],
      "collapsed_sections": [],
      "include_colab_link": true
    },
    "kernelspec": {
      "name": "python3",
      "display_name": "Python 3"
    }
  },
  "cells": [
    {
      "cell_type": "markdown",
      "metadata": {
        "id": "view-in-github",
        "colab_type": "text"
      },
      "source": [
        "<a href=\"https://colab.research.google.com/github/thomasrcain/swfoundations/blob/master/NY_Times_Archive_API_2021_Final_Hackathon.ipynb\" target=\"_parent\"><img src=\"https://colab.research.google.com/assets/colab-badge.svg\" alt=\"Open In Colab\"/></a>"
      ]
    },
    {
      "cell_type": "markdown",
      "metadata": {
        "id": "0d1RW4ZFXOcA"
      },
      "source": [
        "# <font color=red> Software Developer Foundations - Final Hackathon </font>"
      ]
    },
    {
      "cell_type": "markdown",
      "metadata": {
        "id": "QXgDZV8BQesb"
      },
      "source": [
        "\n",
        "# What Happened on the Day that you were Born?\n",
        "\n",
        "Python contructs we'll use in this Colab:\n",
        "- Public API data ingest.\n",
        "- Retrieve JSON data from the API for a _month_ and _year_.\n",
        "- Filter the data for a specific _day of the month_.\n",
        "- Use pandas to manipulate the data.\n",
        "- Create a CSV of data."
      ]
    },
    {
      "cell_type": "markdown",
      "metadata": {
        "id": "3kjqzHPePen1"
      },
      "source": [
        "\n",
        "## Description of the Coding Exercise\n",
        "- We will query the **New York Times Archive API** for all the articles the Times has accessible from the API from your _BIRTH MONTH_ and _BIRTH YEAR_.\n",
        " - You can signup for an API Key at the [NY Times API Main Site](https://developer.nytimes.com/). \n",
        "  - Or you can use `kEBQsEG9EGEfQNutEqFNXBSq6m7etGAk`.\n",
        " - Start by reviewing the webpage here: [NY Times Archive API](https://developer.nytimes.com/docs/archive-product/1/overview).\n",
        " - Study the `Example Call` of the `Archive` API endpoint.\n",
        " - Be sure you **TEST** your code following every step.\n",
        " - Ask questions.\n",
        "- **INPUT**: Ask the user for their birth month and year to query the NY Times Archive API.\n",
        "\n",
        "## Helpful Steps\n",
        "- After you understand how to invoke the endpoint, use the _Firefox_ browser to help you understand the structure of the API data by making a sample API call in the browser location bar.\n",
        "- Instead of asking the user to input data, you might first `hardcode a birth month and birth year`.  Of course, it is suggested to use your own.  After your code is working, then you can incorporate user input.\n",
        "\n"
      ]
    },
    {
      "cell_type": "markdown",
      "metadata": {
        "id": "-YzGFJImJUvR"
      },
      "source": [
        "# Obtaining the Data that you want by Querying the API\n",
        "\n",
        "- You will obtain JSON data from the Archive API\n",
        " - Construct a URL to pass to the API.  If you're not sure of the format, then go back to the [NY Times Archive API](https://developer.nytimes.com/docs/archive-product/1/overview) and study the examples, as suggested earlier.\n",
        " - This code can help you:\n",
        "\n",
        " ```\n",
        " # Construct the URL\n",
        "month_url = month + \".json\"\n",
        "url_parts = (base_url,year,month_url)\n",
        "url = \"/\".join(url_parts)\n",
        "print(url)\n",
        "```\n",
        "- You should be able to display a statement like the following after you retrieve the data:\n",
        " - `There are 17432 articles in month 12 of 1991.`\n",
        "\n"
      ]
    },
    {
      "cell_type": "code",
      "metadata": {
        "id": "WhLo756tClrQ"
      },
      "source": [
        "import requests\n",
        "import csv\n",
        "\n",
        "# What is the \"base URL\" for the API?\n",
        "base_url = \"https://api.nytimes.com/svc/archive/v1/\"\n",
        "\n",
        "# API key here\n",
        "myapikey = \"kEBQsEG9EGEfQNutEqFNXBSq6m7etGAk\"\n",
        "\n",
        "\n",
        "# month = input(\"Enter your birthmonth 1-12: \")\n",
        "# month = 12\n",
        "# year = input(\"Enter your birthyear YYYY: \")\n",
        "# year = 1991\n",
        "\n",
        "# Construct the URL\n",
        "month_url = month + \".json\"\n",
        "url_parts = (base_url,year,month_url)\n",
        "url = \"/\".join(url_parts)\n",
        "print(url)\n",
        "\n",
        "# Setup the querystring\n",
        "\n",
        "# Call request and convert the JSON data to a Python dict\n",
        "\n",
        "# Get the response data\n",
        "\n",
        "# Print out the \"hits\" key to show the number of articles that were returned\n",
        "# by the NY Times Archive API\n"
      ],
      "execution_count": null,
      "outputs": []
    },
    {
      "cell_type": "markdown",
      "metadata": {
        "id": "WIdp9_7gmRgM"
      },
      "source": [
        "# Filter the data for your **date of birth**.\n",
        "\n",
        "Be sure you understand that the API endpoint returned **all of the articles published in both a MONTH and YEAR.** We only want to consider the articles that were returned by the API for a single **day** in the _month/year_ of our birth.\n",
        "\n",
        "Again, study the `JSON` data that is returned from the API call.  It is suggested that you use Firefox to review the response JSON data.\n",
        "\n",
        "- What `JSON named key` defines the array of articles?  Retrieve the `articles` from `response_dict`.  \n",
        "- Create a string variable called `dob`. Assign your birth date in this format: `\"yyyy-mm-dd\"`.\n",
        "- Create an empty `Python list` variable called `dobArticles`. You will populate this list with all the **specific articles** returned by the API that are on YOUR **BIRTHDATE** from all the `articles`.\n",
        "- Walk through the `articles` list and query the `pub_date` key in the JSON\n",
        " - How do you get to that field?\n",
        " - Notice that the data is in the form: `\"1991-12-05T05:00:00+0000\"`\n",
        " - We only need the string data PRIOR to the `T`, so we can use a `str.split('T')` call on SOME string `str`.  What string do we need to \"split\"?\n",
        " - When you `split` on `'T'`, the result can be stored in a tuple with 2 elements called `dayofmonth` and `garbage` because you don't need the data **after the `'T'`**.\n",
        " - Compare your `dob` to the appropriate part of the `split string`.\n",
        "  - If there's a match, then `append` that dictionary to the `dobArticles` list.\n",
        "- This cell should display something like this:\n",
        " - `There were 598 articles in the NY Times Archive published on your date of birth.`"
      ]
    },
    {
      "cell_type": "code",
      "metadata": {
        "id": "KoHfEMPqJCQW"
      },
      "source": [
        "# Grab all the articles from the response_dict.\n",
        "# What key do you need to index?\n",
        "\n",
        "# Put your birthdate in this format\n",
        "# yyyy-mm-dd\n",
        "# Assign that STRING to variable called dob\n",
        "# Create your date of birth list\n",
        "\n",
        "# Walk through the articles list\n",
        "# Access the \"pub_date\" key and split that string on 'T'\n",
        "# Note that a tuple is returned by split.  \n",
        "# You only need the first part\n",
        "# If the first part of pub_date matches dob, then append to dobArticles\n",
        "\n",
        "\n",
        "# Print out the number of articles published on your birthday\n"
      ],
      "execution_count": null,
      "outputs": []
    },
    {
      "cell_type": "markdown",
      "metadata": {
        "id": "82wxC4rJvDwJ"
      },
      "source": [
        "## Display a single article from your birth date.\n",
        "\n",
        "You should have all the articles from your date of birth stored in the `dobArticles` list.  \n",
        "\n",
        "- What is the data type of a single element in this list?\n",
        "- Use a `for` loop to display all the data."
      ]
    },
    {
      "cell_type": "code",
      "metadata": {
        "id": "lv0Rz_s-wCNq"
      },
      "source": [
        ""
      ],
      "execution_count": null,
      "outputs": []
    },
    {
      "cell_type": "markdown",
      "metadata": {
        "id": "94KH552eAmQr"
      },
      "source": [
        "## Let's move to `pandas` so that we can more easily manipulate the data.\n",
        "\n",
        "We will read `dobArticles` into a DataFrame and use that data structure to complete the exercise.\n",
        "\n",
        "- `import pandas as pd`\n",
        "- Create a DataFrame called `articles_df` and read the `dobArticles` list into it.\n",
        " - `dobarticles_df = pd.DataFrame(dobArticles)`\n",
        "- Use `head()` to display the first 5 lines of this DataFrame\n",
        "- Display any 3 consecutive articles from the `dobarticles_df` DataFrame using `iloc`. "
      ]
    },
    {
      "cell_type": "code",
      "metadata": {
        "id": "TkyUKhHcYtMB"
      },
      "source": [
        "import pandas as pd\n"
      ],
      "execution_count": null,
      "outputs": []
    },
    {
      "cell_type": "markdown",
      "metadata": {
        "id": "Vjn94kAFAr6o"
      },
      "source": [
        "## Let's find the articles that were on the Front Page of the NY Times (on your Birthdate).\n",
        "\n",
        "### How many articles are there on the front page?\n",
        "- What **column** do you need to look at?  What value?\n",
        "- Create another DataFrame called `frontpage_df` that chooses ONLY rows from the front page.\n",
        " - **HINT**:  How did we choose the _rank one_ rows from the `fortune500` DataFrame?\n",
        "- Use `shape` to determine the number of articles that appeared on the front page of the NY Times on your birthday."
      ]
    },
    {
      "cell_type": "code",
      "metadata": {
        "id": "hn0GSPAhJzw3"
      },
      "source": [
        "# Create the frontpage_df DataFrame from dobarticles_df\n",
        "\n",
        "# Display the number of articles on the front page\n"
      ],
      "execution_count": null,
      "outputs": []
    },
    {
      "cell_type": "markdown",
      "metadata": {
        "id": "rgT4SE1RV6hb"
      },
      "source": [
        "## Display the resulting `frontpage_df` DataFrame\n",
        "\n",
        "- Use `iloc` to display 5 articles from the `frontpage_df` DataFrame.  Eg. The 5th through 9th.\n",
        "- Display the entire `frontpage_df` DataFrame"
      ]
    },
    {
      "cell_type": "code",
      "metadata": {
        "id": "byvrl2N-V384"
      },
      "source": [
        ""
      ],
      "execution_count": null,
      "outputs": []
    },
    {
      "cell_type": "markdown",
      "metadata": {
        "id": "T2uPqUmfA4OE"
      },
      "source": [
        "## Make a list of the Print **Headlines** from the articles on the Front Page.\n",
        "\n",
        "- Look at the original JSON returned to the Firefox Browser earlier.\n",
        " - Look at the `headline` key.\n",
        "- Using `frontpage_df`, assign only the `\"headline\"` column to a variable called `headlines`.\n",
        " - Look at the first element of `headlines` using `iloc[0]`.\n",
        " - The `headlines` variable is a datatype called a **`Series`**.  It's very much like a list but it's NOT a list.\n",
        " - Convert the `headlines Series` to a `list`. There's a function called `to_list()`.  Use that to convert `headlines` to a list:  \n",
        "```headlinesList = headlines.to_list()```\n",
        " - Use Colab to verify that you do, indeed, have a list by hovering over the `headlinesList` variable.\n",
        " - What `type` of list do you have?\n",
        " - Display the first line of this list.\n",
        "- Let's make our list of the Print Headlines.\n",
        " - Create a `Python list` variable called `printHeadlines`.\n",
        " - How do you populate this list with the `print_headline` strings from the front page headlines?\n",
        " - Display the resulting `printHeadlines` list using a `for` loop.\n"
      ]
    },
    {
      "cell_type": "code",
      "metadata": {
        "id": "gFyqLx28ejmR"
      },
      "source": [
        "# Make a list of the print headlines from the articles on the front page.\n",
        "\n",
        "# Access the appropriate column from the frontpage_df DataFrame\n",
        "\n",
        "# Check headlines.iloc[0]\n",
        "\n",
        "# Use to_list() to force the `headlines` variable to be a list\n",
        "\n",
        "# Append the print_headline string to the printHeadlines list.\n",
        "\n",
        "# Print out printHeadlines\n",
        "for i in printHeadlines:\n",
        "  print(i)\n",
        "  print()"
      ],
      "execution_count": null,
      "outputs": []
    },
    {
      "cell_type": "markdown",
      "metadata": {
        "id": "May3AUUwBry0"
      },
      "source": [
        "### Create a CSV of the Front Page articles.\n",
        "\n",
        "- This time you will use the `pandas` `to_csv()` function to create a CSV file from the `frontpage_df` DataFrame.\n",
        " - Create a `string` variable called `frontpage_birthdate` that uses the `dob` variable from above to create a meaningful CSV file name using string concatenation like: `\"nytimes\"+dob+\"frontpage.csv\"`\n",
        " - Create the CSV file using: \n",
        " ```frontpage_df.to_csv(myfilename)```\n"
      ]
    },
    {
      "cell_type": "code",
      "metadata": {
        "id": "gWeFcAbkZq5P"
      },
      "source": [
        "# Create a frontpage_birthdate filename\n",
        "\n",
        "# Create a CSV from frontpage_df\n",
        "# One line of code!\n"
      ],
      "execution_count": null,
      "outputs": []
    },
    {
      "cell_type": "markdown",
      "metadata": {
        "id": "kmGdY3ObB9tZ"
      },
      "source": [
        "## View the CSV file either locally in Colab or download to Microsoft Excel.\n",
        "\n",
        "- Use the list of `Print Headlines` that you generated above to identify an article that interests you.\n",
        "- Use the URL in the `web_url` column and copy/paste that into a Web browser.\n",
        "\n",
        "NOTE: For a NY Times Subscriber, you can typically view the entire Archived article through: \"VIEW ON TIMESMACHINE\". Most people will find this pretty fun to look at!\n"
      ]
    },
    {
      "cell_type": "markdown",
      "metadata": {
        "id": "zG-xjdfFnMs-"
      },
      "source": [
        "![image.png](data:image/png;base64,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)"
      ]
    },
    {
      "cell_type": "markdown",
      "metadata": {
        "id": "IbSIGhlpCEsw"
      },
      "source": [
        "## OPTIONAL\n",
        "\n",
        "If you can \"View on Timesmachine\", look for some type of **Index** on the front page that you are viewing.  If you find it, then identify the pages of a _Section_ that interests you.\n",
        "\n",
        "Display the rows from TWO pages from that section.\n",
        "\n",
        "- Create another DataFrame called `section_df` with only rows from the `print_page` that you identified above.\n",
        " - Use something like this to select the appropriate rows from `dobarticles_df`.\n",
        "   - `dobarticles_df[\"print_page\"].isin([\"22\",\"23\"])`\n",
        "- How many articles are in `section_df`?"
      ]
    },
    {
      "cell_type": "code",
      "metadata": {
        "id": "2aNFS4I6egUn"
      },
      "source": [
        ""
      ],
      "execution_count": null,
      "outputs": []
    },
    {
      "cell_type": "markdown",
      "metadata": {
        "id": "1pB7ldH6tKXs"
      },
      "source": [
        "## OPTIONAL (BUT FUN).\n",
        "\n",
        "Let's search all articles containing an interesting keyword of your choice that appears in the _main headline_.  \n",
        "\n",
        "The **desired goal**:\n",
        "- Display the _main headline_ of all articles in the dataset `dobarticles_df` where `myKeyword` appears.\n",
        "- List the URLs of all these articles.\n",
        "\n",
        "Steps:\n",
        "- Hardcode a variable `myKeyword` with a string of your choice - the word that you want to search all articles for.\n",
        "- Create a list `urlList = []`\n",
        "- Create a counter `i = 0`.\n",
        "- Use a `for` loop to walk through the `headline` column of the dataframe\n",
        " - `dobarticles_df.headline`\n",
        " - Store the `main` key in a variable called `mainheadline`.  Since that's a string, you should use the `lower()` function to normalize the string data.\n",
        " - `if keyword in mainheadline`, then do the following:\n",
        "   - Print out `mainheadline`.\n",
        "   - Append the associated URL in the `web_url` key to `urlList`:\n",
        "    - `dobarticles_df.iloc[i].web_url`\n",
        " - Be sure that you increment the counter inside the `for` loop but outside the `if` statement.  This counter is ensuring that you are tracking the row in the DataFrame where you query the `mainheadline` for the `keyword`.\n"
      ]
    },
    {
      "cell_type": "code",
      "metadata": {
        "id": "AyiUjdg41VLr"
      },
      "source": [
        "# Create variables:  keyword, urlList, counter variable called i\n",
        "\n",
        "# Walk through dobarticles_df.headline\n",
        "# Select the 'main' key and store in mainheadline variable\n",
        "# Check if your keyword is in the returned string\n",
        "## If so, the print mainheadline and append the URL to urlList.\n",
        "\n",
        "# Print out the list of URLs\n",
        "for url in urlList:\n",
        "  print(url)"
      ],
      "execution_count": null,
      "outputs": []
    },
    {
      "cell_type": "markdown",
      "metadata": {
        "id": "CN-TUKFh7HaB"
      },
      "source": [
        "## Have some fun investigating the articles that are associated with the returned URLS!\n",
        "\n",
        "- Just paste those URLs into your browser and enjoy finding out what happened the day that you were born!"
      ]
    }
  ]
}